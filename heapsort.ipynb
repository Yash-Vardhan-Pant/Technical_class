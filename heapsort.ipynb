{
 "cells": [
  {
   "cell_type": "code",
   "execution_count": 4,
   "id": "29aca10b",
   "metadata": {},
   "outputs": [
    {
     "name": "stdout",
     "output_type": "stream",
     "text": [
      "Sorted array is\n",
      "1 2 3 4 5 9 "
     ]
    }
   ],
   "source": [
    "def heapify(arr, N, i):\n",
    "\tlargest = i\n",
    "\tl = 2 * i + 1\n",
    "\tr = 2 * i + 2\n",
    "\n",
    "\tif l < N and arr[largest] < arr[l]:\n",
    "\t\tlargest = l\n",
    "\n",
    "\tif r < N and arr[largest] < arr[r]:\n",
    "\t\tlargest = r\n",
    "\n",
    "\tif largest != i:\n",
    "\t\tarr[i], arr[largest] = arr[largest], arr[i] # swap\n",
    "\n",
    "\t\theapify(arr, N, largest)\n",
    "\n",
    "def heapSort(arr):\n",
    "\tN = len(arr)\n",
    "\n",
    "\tfor i in range(N//2 - 1, -1, -1):\n",
    "\t\theapify(arr, N, i)\n",
    "\n",
    "\tfor i in range(N-1, 0, -1):\n",
    "\t\tarr[i], arr[0] = arr[0], arr[i] # swap\n",
    "\t\theapify(arr, i, 0)\n",
    "\n",
    "if __name__ == '__main__':\n",
    "\tarr = [9, 5, 4, 3, 1, 2]\n",
    "\n",
    "\theapSort(arr)\n",
    "\tN = len(arr)\n",
    "\n",
    "\tprint(\"Sorted array is\")\n",
    "\tfor i in range(N):\n",
    "\t\tprint(\"%d\" % arr[i], end=\" \")\n",
    "\n"
   ]
  },
  {
   "cell_type": "code",
   "execution_count": null,
   "id": "a7ad259e",
   "metadata": {},
   "outputs": [],
   "source": []
  }
 ],
 "metadata": {
  "kernelspec": {
   "display_name": "Python 3",
   "language": "python",
   "name": "python3"
  },
  "language_info": {
   "codemirror_mode": {
    "name": "ipython",
    "version": 3
   },
   "file_extension": ".py",
   "mimetype": "text/x-python",
   "name": "python",
   "nbconvert_exporter": "python",
   "pygments_lexer": "ipython3",
   "version": "3.8.8"
  }
 },
 "nbformat": 4,
 "nbformat_minor": 5
}
